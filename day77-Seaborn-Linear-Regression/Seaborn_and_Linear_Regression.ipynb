{
  "cells": [
    {
      "cell_type": "markdown",
      "metadata": {
        "id": "gltiGJhvrzaL"
      },
      "source": [
        "# Introduction\n",
        "\n",
        "Do higher film budgets lead to more box office revenue? Let's find out if there's a relationship using the movie budgets and financial performance data that I've scraped from [the-numbers.com](https://www.the-numbers.com/movie/budgets) on **May 1st, 2018**. \n",
        "\n",
        "<img src=https://i.imgur.com/kq7hrEh.png>"
      ]
    },
    {
      "cell_type": "markdown",
      "metadata": {
        "id": "zkLrvlKvtdih"
      },
      "source": [
        "# Import Statements"
      ]
    },
    {
      "cell_type": "code",
      "execution_count": 1,
      "metadata": {
        "id": "NpDk_q_Urroj"
      },
      "outputs": [],
      "source": [
        "import pandas as pd\n",
        "import matplotlib.pyplot as plt\n"
      ]
    },
    {
      "cell_type": "markdown",
      "metadata": {
        "id": "x5B-UDvXtnC6"
      },
      "source": [
        "# Notebook Presentation"
      ]
    },
    {
      "cell_type": "code",
      "execution_count": 2,
      "metadata": {
        "id": "nM_otvWztjpT"
      },
      "outputs": [],
      "source": [
        "pd.options.display.float_format = '{:,.2f}'.format\n",
        "\n",
        "from pandas.plotting import register_matplotlib_converters\n",
        "register_matplotlib_converters()"
      ]
    },
    {
      "cell_type": "markdown",
      "metadata": {
        "id": "v-fnwNYJtthe"
      },
      "source": [
        "# Read the Data"
      ]
    },
    {
      "cell_type": "code",
      "execution_count": 3,
      "metadata": {
        "id": "xhwvQQWitrf4"
      },
      "outputs": [],
      "source": [
        "data = pd.read_csv('cost_revenue_dirty.csv')"
      ]
    },
    {
      "cell_type": "markdown",
      "metadata": {
        "id": "tbg8_J5SuHhs"
      },
      "source": [
        "# Explore and Clean the Data"
      ]
    },
    {
      "cell_type": "markdown",
      "metadata": {
        "id": "xAtdcURCuL0Z"
      },
      "source": [
        "**Challenge**: Answer these questions about the dataset:\n",
        "1. How many rows and columns does the dataset contain?\n",
        "2. Are there any NaN values present?\n",
        "3. Are there any duplicate rows?\n",
        "4. What are the data types of the columns?"
      ]
    },
    {
      "cell_type": "code",
      "execution_count": 22,
      "metadata": {},
      "outputs": [],
      "source": [
        "# %timeit data.info()\n",
        "# %timeit data.info(show_counts=True)\n",
        "# %timeit data[data.isna().any(axis=1)]\n",
        "# # %timeit data[data.isna().any(axis=None)]\n",
        "# %timeit data.isna().any().any()\n",
        "# axis=None did not work. The two .info methods were equivalent, as were the .isna() methods \n"
      ]
    },
    {
      "cell_type": "code",
      "execution_count": 26,
      "metadata": {
        "id": "PV3KLBSVTMDN"
      },
      "outputs": [
        {
          "name": "stdout",
          "output_type": "stream",
          "text": [
            "(5391, 6)\n",
            "<class 'pandas.core.frame.DataFrame'>\n",
            "RangeIndex: 5391 entries, 0 to 5390\n",
            "Data columns (total 6 columns):\n",
            " #   Column                 Non-Null Count  Dtype \n",
            "---  ------                 --------------  ----- \n",
            " 0   Rank                   5391 non-null   int64 \n",
            " 1   Release_Date           5391 non-null   object\n",
            " 2   Movie_Title            5391 non-null   object\n",
            " 3   USD_Production_Budget  5391 non-null   object\n",
            " 4   USD_Worldwide_Gross    5391 non-null   object\n",
            " 5   USD_Domestic_Gross     5391 non-null   object\n",
            "dtypes: int64(1), object(5)\n",
            "memory usage: 252.8+ KB\n",
            "None\n",
            "Any nan? Empty DataFrame\n",
            "Columns: [Rank, Release_Date, Movie_Title, USD_Production_Budget, USD_Worldwide_Gross, USD_Domestic_Gross]\n",
            "Index: []\n",
            "Duplicates: \n",
            "      Rank Release_Date        Movie_Title USD_Production_Budget  \\\n",
            "3054  5289   12/31/2007  A Dog's Breakfast              $120,000   \n",
            "3055  5290   12/31/2007  A Dog's Breakfast              $120,000   \n",
            "\n",
            "     USD_Worldwide_Gross USD_Domestic_Gross  \n",
            "3054                  $0                 $0  \n",
            "3055                  $0                 $0  \n"
          ]
        },
        {
          "data": {
            "text/html": [
              "<div>\n",
              "<style scoped>\n",
              "    .dataframe tbody tr th:only-of-type {\n",
              "        vertical-align: middle;\n",
              "    }\n",
              "\n",
              "    .dataframe tbody tr th {\n",
              "        vertical-align: top;\n",
              "    }\n",
              "\n",
              "    .dataframe thead th {\n",
              "        text-align: right;\n",
              "    }\n",
              "</style>\n",
              "<table border=\"1\" class=\"dataframe\">\n",
              "  <thead>\n",
              "    <tr style=\"text-align: right;\">\n",
              "      <th></th>\n",
              "      <th>Rank</th>\n",
              "      <th>Release_Date</th>\n",
              "      <th>Movie_Title</th>\n",
              "      <th>USD_Production_Budget</th>\n",
              "      <th>USD_Worldwide_Gross</th>\n",
              "      <th>USD_Domestic_Gross</th>\n",
              "    </tr>\n",
              "  </thead>\n",
              "  <tbody>\n",
              "    <tr>\n",
              "      <th>3747</th>\n",
              "      <td>3227</td>\n",
              "      <td>10/2/2010</td>\n",
              "      <td>Triangle</td>\n",
              "      <td>$12,000,000</td>\n",
              "      <td>$1,595,168</td>\n",
              "      <td>$0</td>\n",
              "    </tr>\n",
              "    <tr>\n",
              "      <th>62</th>\n",
              "      <td>3999</td>\n",
              "      <td>1/1/1954</td>\n",
              "      <td>The Egyptian</td>\n",
              "      <td>$5,000,000</td>\n",
              "      <td>$15,000,000</td>\n",
              "      <td>$15,000,000</td>\n",
              "    </tr>\n",
              "    <tr>\n",
              "      <th>2784</th>\n",
              "      <td>983</td>\n",
              "      <td>10/20/2006</td>\n",
              "      <td>Flags of Our Fathers</td>\n",
              "      <td>$53,000,000</td>\n",
              "      <td>$63,657,941</td>\n",
              "      <td>$33,602,376</td>\n",
              "    </tr>\n",
              "    <tr>\n",
              "      <th>3264</th>\n",
              "      <td>2582</td>\n",
              "      <td>11/4/2008</td>\n",
              "      <td>Prom Night</td>\n",
              "      <td>$18,000,000</td>\n",
              "      <td>$57,193,655</td>\n",
              "      <td>$43,869,350</td>\n",
              "    </tr>\n",
              "    <tr>\n",
              "      <th>2405</th>\n",
              "      <td>4109</td>\n",
              "      <td>4/3/2005</td>\n",
              "      <td>Dear Frankie</td>\n",
              "      <td>$4,600,000</td>\n",
              "      <td>$3,099,369</td>\n",
              "      <td>$1,340,891</td>\n",
              "    </tr>\n",
              "  </tbody>\n",
              "</table>\n",
              "</div>"
            ],
            "text/plain": [
              "      Rank Release_Date           Movie_Title USD_Production_Budget  \\\n",
              "3747  3227    10/2/2010              Triangle           $12,000,000   \n",
              "62    3999     1/1/1954          The Egyptian            $5,000,000   \n",
              "2784   983   10/20/2006  Flags of Our Fathers           $53,000,000   \n",
              "3264  2582    11/4/2008            Prom Night           $18,000,000   \n",
              "2405  4109     4/3/2005          Dear Frankie            $4,600,000   \n",
              "\n",
              "     USD_Worldwide_Gross USD_Domestic_Gross  \n",
              "3747          $1,595,168                 $0  \n",
              "62           $15,000,000        $15,000,000  \n",
              "2784         $63,657,941        $33,602,376  \n",
              "3264         $57,193,655        $43,869,350  \n",
              "2405          $3,099,369         $1,340,891  "
            ]
          },
          "execution_count": 26,
          "metadata": {},
          "output_type": "execute_result"
        }
      ],
      "source": [
        "print(data.shape)\n",
        "print(data.info())\n",
        "# print(data.nunique())\n",
        "print(f'Any nan? {data[data.isna().any(axis=1)]}')\n",
        "print(f\"Duplicates: \\n{data[data.duplicated(keep=False, subset=['Release_Date', 'Movie_Title'])]}\")\n",
        "data.sample(5)"
      ]
    },
    {
      "cell_type": "markdown",
      "metadata": {
        "id": "v8spadDNvpVG"
      },
      "source": [
        "### Data Type Conversions"
      ]
    },
    {
      "cell_type": "markdown",
      "metadata": {
        "id": "9F8KFST4ulrd"
      },
      "source": [
        "**Challenge**: Convert the `USD_Production_Budget`, `USD_Worldwide_Gross`, and `USD_Domestic_Gross` columns to a numeric format by removing `$` signs and `,`. \n",
        "<br>\n",
        "<br>\n",
        "Note that *domestic* in this context refers to the United States."
      ]
    },
    {
      "cell_type": "code",
      "execution_count": 27,
      "metadata": {
        "id": "BmdCbLf-TPXk"
      },
      "outputs": [
        {
          "data": {
            "text/html": [
              "<div>\n",
              "<style scoped>\n",
              "    .dataframe tbody tr th:only-of-type {\n",
              "        vertical-align: middle;\n",
              "    }\n",
              "\n",
              "    .dataframe tbody tr th {\n",
              "        vertical-align: top;\n",
              "    }\n",
              "\n",
              "    .dataframe thead th {\n",
              "        text-align: right;\n",
              "    }\n",
              "</style>\n",
              "<table border=\"1\" class=\"dataframe\">\n",
              "  <thead>\n",
              "    <tr style=\"text-align: right;\">\n",
              "      <th></th>\n",
              "      <th>Rank</th>\n",
              "      <th>Release_Date</th>\n",
              "      <th>Movie_Title</th>\n",
              "      <th>USD_Production_Budget</th>\n",
              "      <th>USD_Worldwide_Gross</th>\n",
              "      <th>USD_Domestic_Gross</th>\n",
              "    </tr>\n",
              "  </thead>\n",
              "  <tbody>\n",
              "    <tr>\n",
              "      <th>646</th>\n",
              "      <td>4051</td>\n",
              "      <td>9/21/1992</td>\n",
              "      <td>Light Sleeper</td>\n",
              "      <td>5000000</td>\n",
              "      <td>1050861</td>\n",
              "      <td>1050861</td>\n",
              "    </tr>\n",
              "    <tr>\n",
              "      <th>1547</th>\n",
              "      <td>2029</td>\n",
              "      <td>12/15/2000</td>\n",
              "      <td>Chocolat</td>\n",
              "      <td>25000000</td>\n",
              "      <td>152500343</td>\n",
              "      <td>71309760</td>\n",
              "    </tr>\n",
              "    <tr>\n",
              "      <th>2783</th>\n",
              "      <td>5148</td>\n",
              "      <td>10/18/2006</td>\n",
              "      <td>51 Birch Street</td>\n",
              "      <td>350000</td>\n",
              "      <td>84689</td>\n",
              "      <td>84689</td>\n",
              "    </tr>\n",
              "    <tr>\n",
              "      <th>3573</th>\n",
              "      <td>5015</td>\n",
              "      <td>1/26/2010</td>\n",
              "      <td>B-Girl</td>\n",
              "      <td>700000</td>\n",
              "      <td>1160</td>\n",
              "      <td>0</td>\n",
              "    </tr>\n",
              "    <tr>\n",
              "      <th>2285</th>\n",
              "      <td>392</td>\n",
              "      <td>9/4/2004</td>\n",
              "      <td>The Alamo</td>\n",
              "      <td>92000000</td>\n",
              "      <td>23911362</td>\n",
              "      <td>22406362</td>\n",
              "    </tr>\n",
              "  </tbody>\n",
              "</table>\n",
              "</div>"
            ],
            "text/plain": [
              "      Rank Release_Date      Movie_Title  USD_Production_Budget  \\\n",
              "646   4051    9/21/1992    Light Sleeper                5000000   \n",
              "1547  2029   12/15/2000         Chocolat               25000000   \n",
              "2783  5148   10/18/2006  51 Birch Street                 350000   \n",
              "3573  5015    1/26/2010           B-Girl                 700000   \n",
              "2285   392     9/4/2004        The Alamo               92000000   \n",
              "\n",
              "      USD_Worldwide_Gross  USD_Domestic_Gross  \n",
              "646               1050861             1050861  \n",
              "1547            152500343            71309760  \n",
              "2783                84689               84689  \n",
              "3573                 1160                   0  \n",
              "2285             23911362            22406362  "
            ]
          },
          "execution_count": 27,
          "metadata": {},
          "output_type": "execute_result"
        }
      ],
      "source": [
        "data.USD_Domestic_Gross = data.USD_Domestic_Gross.str.replace(pat=r'\\D', repl='', regex=True).astype(int)\n",
        "data.USD_Production_Budget = data.USD_Production_Budget.str.replace(pat=r'\\D', repl='', regex=True).astype(int)\n",
        "data.USD_Worldwide_Gross = data.USD_Worldwide_Gross.str.replace(pat=r'\\D', repl='', regex=True).astype(int)\n",
        "data.sample(5)"
      ]
    },
    {
      "cell_type": "code",
      "execution_count": 28,
      "metadata": {},
      "outputs": [
        {
          "name": "stdout",
          "output_type": "stream",
          "text": [
            "<class 'pandas.core.frame.DataFrame'>\n",
            "RangeIndex: 5391 entries, 0 to 5390\n",
            "Data columns (total 6 columns):\n",
            " #   Column                 Non-Null Count  Dtype \n",
            "---  ------                 --------------  ----- \n",
            " 0   Rank                   5391 non-null   int64 \n",
            " 1   Release_Date           5391 non-null   object\n",
            " 2   Movie_Title            5391 non-null   object\n",
            " 3   USD_Production_Budget  5391 non-null   int64 \n",
            " 4   USD_Worldwide_Gross    5391 non-null   int64 \n",
            " 5   USD_Domestic_Gross     5391 non-null   int64 \n",
            "dtypes: int64(4), object(2)\n",
            "memory usage: 252.8+ KB\n"
          ]
        }
      ],
      "source": [
        "data.info()"
      ]
    },
    {
      "cell_type": "markdown",
      "metadata": {
        "id": "cA01iJHkvWhl"
      },
      "source": [
        "**Challenge**: Convert the `Release_Date` column to a Pandas Datetime type. "
      ]
    },
    {
      "cell_type": "code",
      "execution_count": 29,
      "metadata": {
        "id": "Pq1WfvRnTRU6"
      },
      "outputs": [
        {
          "name": "stdout",
          "output_type": "stream",
          "text": [
            "<class 'pandas.core.frame.DataFrame'>\n",
            "RangeIndex: 5391 entries, 0 to 5390\n",
            "Data columns (total 6 columns):\n",
            " #   Column                 Non-Null Count  Dtype         \n",
            "---  ------                 --------------  -----         \n",
            " 0   Rank                   5391 non-null   int64         \n",
            " 1   Release_Date           5391 non-null   datetime64[ns]\n",
            " 2   Movie_Title            5391 non-null   object        \n",
            " 3   USD_Production_Budget  5391 non-null   int64         \n",
            " 4   USD_Worldwide_Gross    5391 non-null   int64         \n",
            " 5   USD_Domestic_Gross     5391 non-null   int64         \n",
            "dtypes: datetime64[ns](1), int64(4), object(1)\n",
            "memory usage: 252.8+ KB\n"
          ]
        }
      ],
      "source": [
        "data.Release_Date = pd.to_datetime(data.Release_Date)\n",
        "data.info()"
      ]
    },
    {
      "cell_type": "code",
      "execution_count": 30,
      "metadata": {},
      "outputs": [
        {
          "name": "stdout",
          "output_type": "stream",
          "text": [
            "Duplicates: \n",
            "Empty DataFrame\n",
            "Columns: [Rank, Release_Date, Movie_Title, USD_Production_Budget, USD_Worldwide_Gross, USD_Domestic_Gross]\n",
            "Index: []\n",
            "<class 'pandas.core.frame.DataFrame'>\n",
            "Int64Index: 5390 entries, 0 to 5390\n",
            "Data columns (total 6 columns):\n",
            " #   Column                 Non-Null Count  Dtype         \n",
            "---  ------                 --------------  -----         \n",
            " 0   Rank                   5390 non-null   int64         \n",
            " 1   Release_Date           5390 non-null   datetime64[ns]\n",
            " 2   Movie_Title            5390 non-null   object        \n",
            " 3   USD_Production_Budget  5390 non-null   int64         \n",
            " 4   USD_Worldwide_Gross    5390 non-null   int64         \n",
            " 5   USD_Domestic_Gross     5390 non-null   int64         \n",
            "dtypes: datetime64[ns](1), int64(4), object(1)\n",
            "memory usage: 294.8+ KB\n"
          ]
        }
      ],
      "source": [
        "# Did not drop the duplicate above since it was not part of the challenge. \n",
        "# Will do it here.\n",
        "data = data.drop_duplicates(subset=['Release_Date', 'Movie_Title'])\n",
        "print(f\"Duplicates: \\n{data[data.duplicated(keep=False, subset=['Release_Date', 'Movie_Title'])]}\")\n",
        "data.info()"
      ]
    },
    {
      "cell_type": "markdown",
      "metadata": {
        "id": "NkwmJO3tvt5i"
      },
      "source": [
        "### Descriptive Statistics"
      ]
    },
    {
      "cell_type": "markdown",
      "metadata": {
        "id": "bnb54thrvx5r"
      },
      "source": [
        "**Challenge**: \n",
        "\n",
        "1. What is the average production budget of the films in the data set?\n",
        "2. What is the average worldwide gross revenue of films?\n",
        "3. What were the minimums for worldwide and domestic revenue?\n",
        "4. Are the bottom 25% of films actually profitable or do they lose money?\n",
        "5. What are the highest production budget and highest worldwide gross revenue of any film?\n",
        "6. How much revenue did the lowest and highest budget films make?"
      ]
    },
    {
      "cell_type": "code",
      "execution_count": 39,
      "metadata": {
        "id": "8G5_FATFTTtb"
      },
      "outputs": [
        {
          "name": "stdout",
          "output_type": "stream",
          "text": [
            "Avg Prod Budget: 31119487.807977736\n",
            "Avg Worldwide Gross Rev: 88871907.19870129\n",
            "          Rank  USD_Production_Budget  USD_Worldwide_Gross  USD_Domestic_Gross\n",
            "count 5,390.00               5,390.00             5,390.00            5,390.00\n",
            "mean  2,695.52          31,119,487.81        88,871,907.20       41,243,169.82\n",
            "std   1,556.14          40,525,356.93       168,469,037.10       66,033,082.74\n",
            "min       1.00               1,100.00                 0.00                0.00\n",
            "25%   1,348.25           5,000,000.00         3,877,146.00        1,335,065.75\n",
            "50%   2,695.50          17,000,000.00        27,460,037.00       17,196,565.00\n",
            "75%   4,042.75          40,000,000.00        96,461,821.00       52,348,661.50\n",
            "max   5,391.00         425,000,000.00     2,783,918,982.00      936,662,225.00\n",
            "Lowest Budget Film:\n"
          ]
        },
        {
          "data": {
            "text/html": [
              "<div>\n",
              "<style scoped>\n",
              "    .dataframe tbody tr th:only-of-type {\n",
              "        vertical-align: middle;\n",
              "    }\n",
              "\n",
              "    .dataframe tbody tr th {\n",
              "        vertical-align: top;\n",
              "    }\n",
              "\n",
              "    .dataframe thead th {\n",
              "        text-align: right;\n",
              "    }\n",
              "</style>\n",
              "<table border=\"1\" class=\"dataframe\">\n",
              "  <thead>\n",
              "    <tr style=\"text-align: right;\">\n",
              "      <th></th>\n",
              "      <th>Rank</th>\n",
              "      <th>Release_Date</th>\n",
              "      <th>Movie_Title</th>\n",
              "      <th>USD_Production_Budget</th>\n",
              "      <th>USD_Worldwide_Gross</th>\n",
              "      <th>USD_Domestic_Gross</th>\n",
              "    </tr>\n",
              "  </thead>\n",
              "  <tbody>\n",
              "    <tr>\n",
              "      <th>2427</th>\n",
              "      <td>5391</td>\n",
              "      <td>2005-05-08</td>\n",
              "      <td>My Date With Drew</td>\n",
              "      <td>1100</td>\n",
              "      <td>181041</td>\n",
              "      <td>181041</td>\n",
              "    </tr>\n",
              "  </tbody>\n",
              "</table>\n",
              "</div>"
            ],
            "text/plain": [
              "      Rank Release_Date        Movie_Title  USD_Production_Budget  \\\n",
              "2427  5391   2005-05-08  My Date With Drew                   1100   \n",
              "\n",
              "      USD_Worldwide_Gross  USD_Domestic_Gross  \n",
              "2427               181041              181041  "
            ]
          },
          "execution_count": 39,
          "metadata": {},
          "output_type": "execute_result"
        }
      ],
      "source": [
        "print(f'Avg Prod Budget: {data.USD_Production_Budget.mean()}')\n",
        "print(f'Avg Worldwide Gross Rev: {data.USD_Worldwide_Gross.mean()}')\n",
        "# Getting too bored to type all these out. I think describe() gives us all of the above.\n",
        "print(data.describe())\n",
        "# I think the only question not answered by describe() is #6\n",
        "# #6 Lowest\n",
        "print(f'Lowest Budget Film:')\n",
        "data[data.USD_Production_Budget == data.USD_Production_Budget.min()]\n"
      ]
    },
    {
      "cell_type": "code",
      "execution_count": 40,
      "metadata": {},
      "outputs": [
        {
          "name": "stdout",
          "output_type": "stream",
          "text": [
            "Highest Budget Film:\n"
          ]
        },
        {
          "data": {
            "text/html": [
              "<div>\n",
              "<style scoped>\n",
              "    .dataframe tbody tr th:only-of-type {\n",
              "        vertical-align: middle;\n",
              "    }\n",
              "\n",
              "    .dataframe tbody tr th {\n",
              "        vertical-align: top;\n",
              "    }\n",
              "\n",
              "    .dataframe thead th {\n",
              "        text-align: right;\n",
              "    }\n",
              "</style>\n",
              "<table border=\"1\" class=\"dataframe\">\n",
              "  <thead>\n",
              "    <tr style=\"text-align: right;\">\n",
              "      <th></th>\n",
              "      <th>Rank</th>\n",
              "      <th>Release_Date</th>\n",
              "      <th>Movie_Title</th>\n",
              "      <th>USD_Production_Budget</th>\n",
              "      <th>USD_Worldwide_Gross</th>\n",
              "      <th>USD_Domestic_Gross</th>\n",
              "    </tr>\n",
              "  </thead>\n",
              "  <tbody>\n",
              "    <tr>\n",
              "      <th>3529</th>\n",
              "      <td>1</td>\n",
              "      <td>2009-12-18</td>\n",
              "      <td>Avatar</td>\n",
              "      <td>425000000</td>\n",
              "      <td>2783918982</td>\n",
              "      <td>760507625</td>\n",
              "    </tr>\n",
              "  </tbody>\n",
              "</table>\n",
              "</div>"
            ],
            "text/plain": [
              "      Rank Release_Date Movie_Title  USD_Production_Budget  \\\n",
              "3529     1   2009-12-18      Avatar              425000000   \n",
              "\n",
              "      USD_Worldwide_Gross  USD_Domestic_Gross  \n",
              "3529           2783918982           760507625  "
            ]
          },
          "execution_count": 40,
          "metadata": {},
          "output_type": "execute_result"
        }
      ],
      "source": [
        "# 6 Highest\n",
        "print(f'Highest Budget Film:')\n",
        "data[data.USD_Production_Budget == data.USD_Production_Budget.max()]"
      ]
    },
    {
      "cell_type": "markdown",
      "metadata": {
        "id": "Cj-ug32JyEhp"
      },
      "source": [
        "# Investigating the Zero Revenue Films"
      ]
    },
    {
      "cell_type": "markdown",
      "metadata": {
        "id": "U9hm-pb4xTjY"
      },
      "source": [
        "**Challenge** How many films grossed $0 domestically (i.e., in the United States)? What were the highest budget films that grossed nothing?"
      ]
    },
    {
      "cell_type": "code",
      "execution_count": 41,
      "metadata": {
        "id": "MXuRYdy0TWkt"
      },
      "outputs": [
        {
          "data": {
            "text/html": [
              "<div>\n",
              "<style scoped>\n",
              "    .dataframe tbody tr th:only-of-type {\n",
              "        vertical-align: middle;\n",
              "    }\n",
              "\n",
              "    .dataframe tbody tr th {\n",
              "        vertical-align: top;\n",
              "    }\n",
              "\n",
              "    .dataframe thead th {\n",
              "        text-align: right;\n",
              "    }\n",
              "</style>\n",
              "<table border=\"1\" class=\"dataframe\">\n",
              "  <thead>\n",
              "    <tr style=\"text-align: right;\">\n",
              "      <th></th>\n",
              "      <th>Rank</th>\n",
              "      <th>Release_Date</th>\n",
              "      <th>Movie_Title</th>\n",
              "      <th>USD_Production_Budget</th>\n",
              "      <th>USD_Worldwide_Gross</th>\n",
              "      <th>USD_Domestic_Gross</th>\n",
              "    </tr>\n",
              "  </thead>\n",
              "  <tbody>\n",
              "    <tr>\n",
              "      <th>5388</th>\n",
              "      <td>96</td>\n",
              "      <td>2020-12-31</td>\n",
              "      <td>Singularity</td>\n",
              "      <td>175000000</td>\n",
              "      <td>0</td>\n",
              "      <td>0</td>\n",
              "    </tr>\n",
              "    <tr>\n",
              "      <th>5387</th>\n",
              "      <td>126</td>\n",
              "      <td>2018-12-18</td>\n",
              "      <td>Aquaman</td>\n",
              "      <td>160000000</td>\n",
              "      <td>0</td>\n",
              "      <td>0</td>\n",
              "    </tr>\n",
              "    <tr>\n",
              "      <th>5384</th>\n",
              "      <td>321</td>\n",
              "      <td>2018-09-03</td>\n",
              "      <td>A Wrinkle in Time</td>\n",
              "      <td>103000000</td>\n",
              "      <td>0</td>\n",
              "      <td>0</td>\n",
              "    </tr>\n",
              "    <tr>\n",
              "      <th>5385</th>\n",
              "      <td>366</td>\n",
              "      <td>2018-10-08</td>\n",
              "      <td>Amusement Park</td>\n",
              "      <td>100000000</td>\n",
              "      <td>0</td>\n",
              "      <td>0</td>\n",
              "    </tr>\n",
              "    <tr>\n",
              "      <th>5090</th>\n",
              "      <td>556</td>\n",
              "      <td>2015-12-31</td>\n",
              "      <td>Don Gato, el inicio de la pandilla</td>\n",
              "      <td>80000000</td>\n",
              "      <td>4547660</td>\n",
              "      <td>0</td>\n",
              "    </tr>\n",
              "    <tr>\n",
              "      <th>...</th>\n",
              "      <td>...</td>\n",
              "      <td>...</td>\n",
              "      <td>...</td>\n",
              "      <td>...</td>\n",
              "      <td>...</td>\n",
              "      <td>...</td>\n",
              "    </tr>\n",
              "    <tr>\n",
              "      <th>4787</th>\n",
              "      <td>5371</td>\n",
              "      <td>2014-12-31</td>\n",
              "      <td>Stories of Our Lives</td>\n",
              "      <td>15000</td>\n",
              "      <td>0</td>\n",
              "      <td>0</td>\n",
              "    </tr>\n",
              "    <tr>\n",
              "      <th>3056</th>\n",
              "      <td>5374</td>\n",
              "      <td>2007-12-31</td>\n",
              "      <td>Tin Can Man</td>\n",
              "      <td>12000</td>\n",
              "      <td>0</td>\n",
              "      <td>0</td>\n",
              "    </tr>\n",
              "    <tr>\n",
              "      <th>4907</th>\n",
              "      <td>5381</td>\n",
              "      <td>2015-05-19</td>\n",
              "      <td>Family Motocross</td>\n",
              "      <td>10000</td>\n",
              "      <td>0</td>\n",
              "      <td>0</td>\n",
              "    </tr>\n",
              "    <tr>\n",
              "      <th>5006</th>\n",
              "      <td>5389</td>\n",
              "      <td>2015-09-29</td>\n",
              "      <td>Signed Sealed Delivered</td>\n",
              "      <td>5000</td>\n",
              "      <td>0</td>\n",
              "      <td>0</td>\n",
              "    </tr>\n",
              "    <tr>\n",
              "      <th>5007</th>\n",
              "      <td>5390</td>\n",
              "      <td>2015-09-29</td>\n",
              "      <td>A Plague So Pleasant</td>\n",
              "      <td>1400</td>\n",
              "      <td>0</td>\n",
              "      <td>0</td>\n",
              "    </tr>\n",
              "  </tbody>\n",
              "</table>\n",
              "<p>511 rows × 6 columns</p>\n",
              "</div>"
            ],
            "text/plain": [
              "      Rank Release_Date                         Movie_Title  \\\n",
              "5388    96   2020-12-31                         Singularity   \n",
              "5387   126   2018-12-18                             Aquaman   \n",
              "5384   321   2018-09-03                   A Wrinkle in Time   \n",
              "5385   366   2018-10-08                      Amusement Park   \n",
              "5090   556   2015-12-31  Don Gato, el inicio de la pandilla   \n",
              "...    ...          ...                                 ...   \n",
              "4787  5371   2014-12-31                Stories of Our Lives   \n",
              "3056  5374   2007-12-31                         Tin Can Man   \n",
              "4907  5381   2015-05-19                    Family Motocross   \n",
              "5006  5389   2015-09-29             Signed Sealed Delivered   \n",
              "5007  5390   2015-09-29                A Plague So Pleasant   \n",
              "\n",
              "      USD_Production_Budget  USD_Worldwide_Gross  USD_Domestic_Gross  \n",
              "5388              175000000                    0                   0  \n",
              "5387              160000000                    0                   0  \n",
              "5384              103000000                    0                   0  \n",
              "5385              100000000                    0                   0  \n",
              "5090               80000000              4547660                   0  \n",
              "...                     ...                  ...                 ...  \n",
              "4787                  15000                    0                   0  \n",
              "3056                  12000                    0                   0  \n",
              "4907                  10000                    0                   0  \n",
              "5006                   5000                    0                   0  \n",
              "5007                   1400                    0                   0  \n",
              "\n",
              "[511 rows x 6 columns]"
            ]
          },
          "execution_count": 41,
          "metadata": {},
          "output_type": "execute_result"
        }
      ],
      "source": [
        "data[data.USD_Domestic_Gross == 0].sort_values(by='USD_Production_Budget', ascending=False)"
      ]
    },
    {
      "cell_type": "markdown",
      "metadata": {
        "id": "mY8SAwI0x73b"
      },
      "source": [
        "**Challenge**: How many films grossed $0 worldwide? What are the highest budget films that had no revenue internationally?"
      ]
    },
    {
      "cell_type": "code",
      "execution_count": 42,
      "metadata": {
        "id": "VpfocexxTXym"
      },
      "outputs": [
        {
          "data": {
            "text/html": [
              "<div>\n",
              "<style scoped>\n",
              "    .dataframe tbody tr th:only-of-type {\n",
              "        vertical-align: middle;\n",
              "    }\n",
              "\n",
              "    .dataframe tbody tr th {\n",
              "        vertical-align: top;\n",
              "    }\n",
              "\n",
              "    .dataframe thead th {\n",
              "        text-align: right;\n",
              "    }\n",
              "</style>\n",
              "<table border=\"1\" class=\"dataframe\">\n",
              "  <thead>\n",
              "    <tr style=\"text-align: right;\">\n",
              "      <th></th>\n",
              "      <th>Rank</th>\n",
              "      <th>Release_Date</th>\n",
              "      <th>Movie_Title</th>\n",
              "      <th>USD_Production_Budget</th>\n",
              "      <th>USD_Worldwide_Gross</th>\n",
              "      <th>USD_Domestic_Gross</th>\n",
              "    </tr>\n",
              "  </thead>\n",
              "  <tbody>\n",
              "    <tr>\n",
              "      <th>5388</th>\n",
              "      <td>96</td>\n",
              "      <td>2020-12-31</td>\n",
              "      <td>Singularity</td>\n",
              "      <td>175000000</td>\n",
              "      <td>0</td>\n",
              "      <td>0</td>\n",
              "    </tr>\n",
              "    <tr>\n",
              "      <th>5387</th>\n",
              "      <td>126</td>\n",
              "      <td>2018-12-18</td>\n",
              "      <td>Aquaman</td>\n",
              "      <td>160000000</td>\n",
              "      <td>0</td>\n",
              "      <td>0</td>\n",
              "    </tr>\n",
              "    <tr>\n",
              "      <th>5384</th>\n",
              "      <td>321</td>\n",
              "      <td>2018-09-03</td>\n",
              "      <td>A Wrinkle in Time</td>\n",
              "      <td>103000000</td>\n",
              "      <td>0</td>\n",
              "      <td>0</td>\n",
              "    </tr>\n",
              "    <tr>\n",
              "      <th>5385</th>\n",
              "      <td>366</td>\n",
              "      <td>2018-10-08</td>\n",
              "      <td>Amusement Park</td>\n",
              "      <td>100000000</td>\n",
              "      <td>0</td>\n",
              "      <td>0</td>\n",
              "    </tr>\n",
              "    <tr>\n",
              "      <th>5338</th>\n",
              "      <td>879</td>\n",
              "      <td>2017-04-08</td>\n",
              "      <td>The Dark Tower</td>\n",
              "      <td>60000000</td>\n",
              "      <td>0</td>\n",
              "      <td>0</td>\n",
              "    </tr>\n",
              "    <tr>\n",
              "      <th>...</th>\n",
              "      <td>...</td>\n",
              "      <td>...</td>\n",
              "      <td>...</td>\n",
              "      <td>...</td>\n",
              "      <td>...</td>\n",
              "      <td>...</td>\n",
              "    </tr>\n",
              "    <tr>\n",
              "      <th>4787</th>\n",
              "      <td>5371</td>\n",
              "      <td>2014-12-31</td>\n",
              "      <td>Stories of Our Lives</td>\n",
              "      <td>15000</td>\n",
              "      <td>0</td>\n",
              "      <td>0</td>\n",
              "    </tr>\n",
              "    <tr>\n",
              "      <th>3056</th>\n",
              "      <td>5374</td>\n",
              "      <td>2007-12-31</td>\n",
              "      <td>Tin Can Man</td>\n",
              "      <td>12000</td>\n",
              "      <td>0</td>\n",
              "      <td>0</td>\n",
              "    </tr>\n",
              "    <tr>\n",
              "      <th>4907</th>\n",
              "      <td>5381</td>\n",
              "      <td>2015-05-19</td>\n",
              "      <td>Family Motocross</td>\n",
              "      <td>10000</td>\n",
              "      <td>0</td>\n",
              "      <td>0</td>\n",
              "    </tr>\n",
              "    <tr>\n",
              "      <th>5006</th>\n",
              "      <td>5389</td>\n",
              "      <td>2015-09-29</td>\n",
              "      <td>Signed Sealed Delivered</td>\n",
              "      <td>5000</td>\n",
              "      <td>0</td>\n",
              "      <td>0</td>\n",
              "    </tr>\n",
              "    <tr>\n",
              "      <th>5007</th>\n",
              "      <td>5390</td>\n",
              "      <td>2015-09-29</td>\n",
              "      <td>A Plague So Pleasant</td>\n",
              "      <td>1400</td>\n",
              "      <td>0</td>\n",
              "      <td>0</td>\n",
              "    </tr>\n",
              "  </tbody>\n",
              "</table>\n",
              "<p>356 rows × 6 columns</p>\n",
              "</div>"
            ],
            "text/plain": [
              "      Rank Release_Date              Movie_Title  USD_Production_Budget  \\\n",
              "5388    96   2020-12-31              Singularity              175000000   \n",
              "5387   126   2018-12-18                  Aquaman              160000000   \n",
              "5384   321   2018-09-03        A Wrinkle in Time              103000000   \n",
              "5385   366   2018-10-08           Amusement Park              100000000   \n",
              "5338   879   2017-04-08           The Dark Tower               60000000   \n",
              "...    ...          ...                      ...                    ...   \n",
              "4787  5371   2014-12-31     Stories of Our Lives                  15000   \n",
              "3056  5374   2007-12-31              Tin Can Man                  12000   \n",
              "4907  5381   2015-05-19         Family Motocross                  10000   \n",
              "5006  5389   2015-09-29  Signed Sealed Delivered                   5000   \n",
              "5007  5390   2015-09-29     A Plague So Pleasant                   1400   \n",
              "\n",
              "      USD_Worldwide_Gross  USD_Domestic_Gross  \n",
              "5388                    0                   0  \n",
              "5387                    0                   0  \n",
              "5384                    0                   0  \n",
              "5385                    0                   0  \n",
              "5338                    0                   0  \n",
              "...                   ...                 ...  \n",
              "4787                    0                   0  \n",
              "3056                    0                   0  \n",
              "4907                    0                   0  \n",
              "5006                    0                   0  \n",
              "5007                    0                   0  \n",
              "\n",
              "[356 rows x 6 columns]"
            ]
          },
          "execution_count": 42,
          "metadata": {},
          "output_type": "execute_result"
        }
      ],
      "source": [
        "data[data.USD_Worldwide_Gross == 0].sort_values(by='USD_Production_Budget', ascending=False)"
      ]
    },
    {
      "cell_type": "markdown",
      "metadata": {
        "id": "eXUDzWpeyV2f"
      },
      "source": [
        "### Filtering on Multiple Conditions"
      ]
    },
    {
      "cell_type": "code",
      "execution_count": 44,
      "metadata": {
        "id": "dLd3eeD9TZZ9"
      },
      "outputs": [
        {
          "name": "stdout",
          "output_type": "stream",
          "text": [
            "Number of International-Only Releases: 155\n"
          ]
        },
        {
          "data": {
            "text/html": [
              "<div>\n",
              "<style scoped>\n",
              "    .dataframe tbody tr th:only-of-type {\n",
              "        vertical-align: middle;\n",
              "    }\n",
              "\n",
              "    .dataframe tbody tr th {\n",
              "        vertical-align: top;\n",
              "    }\n",
              "\n",
              "    .dataframe thead th {\n",
              "        text-align: right;\n",
              "    }\n",
              "</style>\n",
              "<table border=\"1\" class=\"dataframe\">\n",
              "  <thead>\n",
              "    <tr style=\"text-align: right;\">\n",
              "      <th></th>\n",
              "      <th>Rank</th>\n",
              "      <th>Release_Date</th>\n",
              "      <th>Movie_Title</th>\n",
              "      <th>USD_Production_Budget</th>\n",
              "      <th>USD_Worldwide_Gross</th>\n",
              "      <th>USD_Domestic_Gross</th>\n",
              "    </tr>\n",
              "  </thead>\n",
              "  <tbody>\n",
              "    <tr>\n",
              "      <th>5322</th>\n",
              "      <td>2946</td>\n",
              "      <td>2017-02-17</td>\n",
              "      <td>In Dubious Battle</td>\n",
              "      <td>15000000</td>\n",
              "      <td>4892</td>\n",
              "      <td>0</td>\n",
              "    </tr>\n",
              "    <tr>\n",
              "      <th>3414</th>\n",
              "      <td>4074</td>\n",
              "      <td>2009-07-07</td>\n",
              "      <td>Flying By</td>\n",
              "      <td>5000000</td>\n",
              "      <td>4568257</td>\n",
              "      <td>0</td>\n",
              "    </tr>\n",
              "    <tr>\n",
              "      <th>4694</th>\n",
              "      <td>2945</td>\n",
              "      <td>2014-10-10</td>\n",
              "      <td>Automata</td>\n",
              "      <td>15000000</td>\n",
              "      <td>29050</td>\n",
              "      <td>0</td>\n",
              "    </tr>\n",
              "    <tr>\n",
              "      <th>4012</th>\n",
              "      <td>4158</td>\n",
              "      <td>2011-10-21</td>\n",
              "      <td>Cargo</td>\n",
              "      <td>4200000</td>\n",
              "      <td>313230</td>\n",
              "      <td>0</td>\n",
              "    </tr>\n",
              "    <tr>\n",
              "      <th>2409</th>\n",
              "      <td>4747</td>\n",
              "      <td>2005-04-11</td>\n",
              "      <td>Wal-Mart: The High Cost of Low Price</td>\n",
              "      <td>1500000</td>\n",
              "      <td>58692</td>\n",
              "      <td>0</td>\n",
              "    </tr>\n",
              "  </tbody>\n",
              "</table>\n",
              "</div>"
            ],
            "text/plain": [
              "      Rank Release_Date                           Movie_Title  \\\n",
              "5322  2946   2017-02-17                     In Dubious Battle   \n",
              "3414  4074   2009-07-07                             Flying By   \n",
              "4694  2945   2014-10-10                              Automata   \n",
              "4012  4158   2011-10-21                                 Cargo   \n",
              "2409  4747   2005-04-11  Wal-Mart: The High Cost of Low Price   \n",
              "\n",
              "      USD_Production_Budget  USD_Worldwide_Gross  USD_Domestic_Gross  \n",
              "5322               15000000                 4892                   0  \n",
              "3414                5000000              4568257                   0  \n",
              "4694               15000000                29050                   0  \n",
              "4012                4200000               313230                   0  \n",
              "2409                1500000                58692                   0  "
            ]
          },
          "execution_count": 44,
          "metadata": {},
          "output_type": "execute_result"
        }
      ],
      "source": [
        "intl_rels = data.loc[(data.USD_Worldwide_Gross != 0) &\n",
        "                     (data.USD_Domestic_Gross == 0)]\n",
        "print(f'Number of International-Only Releases: {len(intl_rels)}')\n",
        "intl_rels.sample(5)"
      ]
    },
    {
      "cell_type": "markdown",
      "metadata": {
        "id": "YruPjqLVPuiB"
      },
      "source": [
        "**Challenge**: Use the [`.query()` function](https://pandas.pydata.org/pandas-docs/stable/reference/api/pandas.DataFrame.query.html) to accomplish the same thing. Create a subset for international releases that had some worldwide gross revenue, but made zero revenue in the United States. \n",
        "\n",
        "Hint: This time you'll have to use the `and` keyword."
      ]
    },
    {
      "cell_type": "code",
      "execution_count": 46,
      "metadata": {
        "id": "Xvu-jTCwTavg"
      },
      "outputs": [
        {
          "name": "stdout",
          "output_type": "stream",
          "text": [
            "Number of International-Only Releases: 155\n"
          ]
        },
        {
          "data": {
            "text/html": [
              "<div>\n",
              "<style scoped>\n",
              "    .dataframe tbody tr th:only-of-type {\n",
              "        vertical-align: middle;\n",
              "    }\n",
              "\n",
              "    .dataframe tbody tr th {\n",
              "        vertical-align: top;\n",
              "    }\n",
              "\n",
              "    .dataframe thead th {\n",
              "        text-align: right;\n",
              "    }\n",
              "</style>\n",
              "<table border=\"1\" class=\"dataframe\">\n",
              "  <thead>\n",
              "    <tr style=\"text-align: right;\">\n",
              "      <th></th>\n",
              "      <th>Rank</th>\n",
              "      <th>Release_Date</th>\n",
              "      <th>Movie_Title</th>\n",
              "      <th>USD_Production_Budget</th>\n",
              "      <th>USD_Worldwide_Gross</th>\n",
              "      <th>USD_Domestic_Gross</th>\n",
              "    </tr>\n",
              "  </thead>\n",
              "  <tbody>\n",
              "    <tr>\n",
              "      <th>5340</th>\n",
              "      <td>1506</td>\n",
              "      <td>2017-04-14</td>\n",
              "      <td>Queen of the Desert</td>\n",
              "      <td>36000000</td>\n",
              "      <td>1480089</td>\n",
              "      <td>0</td>\n",
              "    </tr>\n",
              "    <tr>\n",
              "      <th>3899</th>\n",
              "      <td>4780</td>\n",
              "      <td>2011-05-24</td>\n",
              "      <td>Forget Me Not</td>\n",
              "      <td>1300000</td>\n",
              "      <td>13465</td>\n",
              "      <td>0</td>\n",
              "    </tr>\n",
              "    <tr>\n",
              "      <th>2155</th>\n",
              "      <td>4236</td>\n",
              "      <td>2003-12-31</td>\n",
              "      <td>Nothing</td>\n",
              "      <td>4000000</td>\n",
              "      <td>63180</td>\n",
              "      <td>0</td>\n",
              "    </tr>\n",
              "    <tr>\n",
              "      <th>5271</th>\n",
              "      <td>1433</td>\n",
              "      <td>2016-11-11</td>\n",
              "      <td>USS Indianapolis: Men of Courage</td>\n",
              "      <td>40000000</td>\n",
              "      <td>1079040</td>\n",
              "      <td>0</td>\n",
              "    </tr>\n",
              "    <tr>\n",
              "      <th>5174</th>\n",
              "      <td>2649</td>\n",
              "      <td>2016-04-15</td>\n",
              "      <td>I Am Wrath</td>\n",
              "      <td>18000000</td>\n",
              "      <td>6784</td>\n",
              "      <td>0</td>\n",
              "    </tr>\n",
              "  </tbody>\n",
              "</table>\n",
              "</div>"
            ],
            "text/plain": [
              "      Rank Release_Date                       Movie_Title  \\\n",
              "5340  1506   2017-04-14               Queen of the Desert   \n",
              "3899  4780   2011-05-24                     Forget Me Not   \n",
              "2155  4236   2003-12-31                           Nothing   \n",
              "5271  1433   2016-11-11  USS Indianapolis: Men of Courage   \n",
              "5174  2649   2016-04-15                        I Am Wrath   \n",
              "\n",
              "      USD_Production_Budget  USD_Worldwide_Gross  USD_Domestic_Gross  \n",
              "5340               36000000              1480089                   0  \n",
              "3899                1300000                13465                   0  \n",
              "2155                4000000                63180                   0  \n",
              "5271               40000000              1079040                   0  \n",
              "5174               18000000                 6784                   0  "
            ]
          },
          "execution_count": 46,
          "metadata": {},
          "output_type": "execute_result"
        }
      ],
      "source": [
        "intl_only = data.query(expr='(USD_Worldwide_Gross != 0) and (USD_Domestic_Gross == 0)')\n",
        "print(f'Number of International-Only Releases: {len(intl_only)}')\n",
        "intl_only.sample(5)"
      ]
    },
    {
      "cell_type": "markdown",
      "metadata": {
        "id": "EM-FTE4OZhfr"
      },
      "source": [
        "### Unreleased Films\n",
        "\n",
        "**Challenge**:\n",
        "* Identify which films were not released yet as of the time of data collection (May 1st, 2018).\n",
        "* How many films are included in the dataset that have not yet had a chance to be screened in the box office? \n",
        "* Create another DataFrame called data_clean that does not include these films. "
      ]
    },
    {
      "cell_type": "code",
      "execution_count": 4,
      "metadata": {
        "id": "PIukYVY9Zpxu"
      },
      "outputs": [],
      "source": [
        "# Date of Data Collection\n",
        "scrape_date = pd.Timestamp('2018-5-1')"
      ]
    },
    {
      "cell_type": "code",
      "execution_count": null,
      "metadata": {
        "id": "OAI0VsM3Tc6v"
      },
      "outputs": [],
      "source": []
    },
    {
      "cell_type": "markdown",
      "metadata": {
        "id": "khrJcXlGZWZO"
      },
      "source": [
        "### Films that Lost Money\n",
        "\n",
        "**Challenge**: \n",
        "What is the percentage of films where the production costs exceeded the worldwide gross revenue? "
      ]
    },
    {
      "cell_type": "code",
      "execution_count": null,
      "metadata": {
        "id": "7uW_U9StTgvZ"
      },
      "outputs": [],
      "source": []
    },
    {
      "cell_type": "markdown",
      "metadata": {
        "id": "cfJUL3WwyiDy"
      },
      "source": [
        "# Seaborn for Data Viz: Bubble Charts"
      ]
    },
    {
      "cell_type": "code",
      "execution_count": null,
      "metadata": {
        "id": "YXa3bp1uTiSS"
      },
      "outputs": [],
      "source": []
    },
    {
      "cell_type": "markdown",
      "metadata": {
        "id": "e7NIOiL2y3en"
      },
      "source": [
        "### Plotting Movie Releases over Time\n",
        "\n",
        "**Challenge**: Try to create the following Bubble Chart:\n",
        "\n",
        "<img src=https://i.imgur.com/8fUn9T6.png>\n",
        "\n"
      ]
    },
    {
      "cell_type": "code",
      "execution_count": null,
      "metadata": {
        "id": "OT0D-i3HTmsB"
      },
      "outputs": [],
      "source": []
    },
    {
      "cell_type": "markdown",
      "metadata": {
        "id": "r_2hFz9py84b"
      },
      "source": [
        "# Converting Years to Decades Trick\n",
        "\n",
        "**Challenge**: Create a column in `data_clean` that has the decade of the release. \n",
        "\n",
        "<img src=https://i.imgur.com/0VEfagw.png width=650> \n",
        "\n",
        "Here's how: \n",
        "1. Create a [`DatetimeIndex` object](https://pandas.pydata.org/pandas-docs/stable/reference/api/pandas.DatetimeIndex.html) from the Release_Date column. \n",
        "2. Grab all the years from the `DatetimeIndex` object using the `.year` property.\n",
        "<img src=https://i.imgur.com/5m06Ach.png width=650>\n",
        "3. Use floor division `//` to convert the year data to the decades of the films.\n",
        "4. Add the decades as a `Decade` column to the `data_clean` DataFrame."
      ]
    },
    {
      "cell_type": "code",
      "execution_count": null,
      "metadata": {
        "id": "lak08IPMTn-j"
      },
      "outputs": [],
      "source": []
    },
    {
      "cell_type": "markdown",
      "metadata": {
        "id": "q-X7NK_9zIz9"
      },
      "source": [
        "### Separate the \"old\" (before 1969) and \"New\" (1970s onwards) Films\n",
        "\n",
        "**Challenge**: Create two new DataFrames: `old_films` and `new_films`\n",
        "* `old_films` should include all the films before 1969 (up to and including 1969)\n",
        "* `new_films` should include all the films from 1970 onwards\n",
        "* How many films were released prior to 1970?\n",
        "* What was the most expensive film made prior to 1970?"
      ]
    },
    {
      "cell_type": "code",
      "execution_count": null,
      "metadata": {
        "id": "qe93nMcBTqQz"
      },
      "outputs": [],
      "source": []
    },
    {
      "cell_type": "markdown",
      "metadata": {
        "id": "msXABzF3zW7e"
      },
      "source": [
        "# Seaborn Regression Plots"
      ]
    },
    {
      "cell_type": "code",
      "execution_count": null,
      "metadata": {
        "id": "2ajPcWMJTsom"
      },
      "outputs": [],
      "source": []
    },
    {
      "cell_type": "markdown",
      "metadata": {
        "id": "6k4MeLmxWFwX"
      },
      "source": [
        "**Challenge**: Use Seaborn's `.regplot()` to show the scatter plot and linear regression line against the `new_films`. \n",
        "<br>\n",
        "<br>\n",
        "Style the chart\n",
        "\n",
        "* Put the chart on a `'darkgrid'`.\n",
        "* Set limits on the axes so that they don't show negative values.\n",
        "* Label the axes on the plot \"Revenue in \\$ billions\" and \"Budget in \\$ millions\".\n",
        "* Provide HEX colour codes for the plot and the regression line. Make the dots dark blue (#2f4b7c) and the line orange (#ff7c43).\n",
        "\n",
        "Interpret the chart\n",
        "\n",
        "* Do our data points for the new films align better or worse with the linear regression than for our older films?\n",
        "* Roughly how much would a film with a budget of $150 million make according to the regression line?"
      ]
    },
    {
      "cell_type": "code",
      "execution_count": null,
      "metadata": {
        "id": "6cOVsxqvTui2"
      },
      "outputs": [],
      "source": []
    },
    {
      "cell_type": "markdown",
      "metadata": {
        "id": "Q1SUPPMAzlVK"
      },
      "source": [
        "# Run Your Own Regression with scikit-learn\n",
        "\n",
        "$$ REV \\hat ENUE = \\theta _0 + \\theta _1 BUDGET$$"
      ]
    },
    {
      "cell_type": "code",
      "execution_count": null,
      "metadata": {
        "id": "QmX-wMMLTwBW"
      },
      "outputs": [],
      "source": []
    },
    {
      "cell_type": "markdown",
      "metadata": {
        "id": "o23E9iT1RHQ1"
      },
      "source": [
        "**Challenge**: Run a linear regression for the `old_films`. Calculate the intercept, slope and r-squared. How much of the variance in movie revenue does the linear model explain in this case?"
      ]
    },
    {
      "cell_type": "code",
      "execution_count": null,
      "metadata": {
        "id": "Sd43DJNDT0yQ"
      },
      "outputs": [],
      "source": []
    },
    {
      "cell_type": "code",
      "execution_count": null,
      "metadata": {
        "id": "ygKsLBx5Rs7t"
      },
      "outputs": [],
      "source": []
    },
    {
      "cell_type": "markdown",
      "metadata": {
        "id": "hoD3PeG75p78"
      },
      "source": [
        "# Use Your Model to Make a Prediction\n",
        "\n",
        "We just estimated the slope and intercept! Remember that our Linear Model has the following form:\n",
        "\n",
        "$$ REV \\hat ENUE = \\theta _0 + \\theta _1 BUDGET$$\n",
        "\n",
        "**Challenge**:  How much global revenue does our model estimate for a film with a budget of $350 million? "
      ]
    },
    {
      "cell_type": "code",
      "execution_count": null,
      "metadata": {
        "id": "fX4I4h5i5rgF"
      },
      "outputs": [],
      "source": []
    },
    {
      "cell_type": "code",
      "execution_count": null,
      "metadata": {
        "id": "fB2Yp8ln5qfO"
      },
      "outputs": [],
      "source": []
    }
  ],
  "metadata": {
    "colab": {
      "name": "Seaborn and Linear Regression (start).ipynb",
      "provenance": []
    },
    "kernelspec": {
      "display_name": "Python 3.10.7 ('jupyter')",
      "language": "python",
      "name": "python3"
    },
    "language_info": {
      "codemirror_mode": {
        "name": "ipython",
        "version": 3
      },
      "file_extension": ".py",
      "mimetype": "text/x-python",
      "name": "python",
      "nbconvert_exporter": "python",
      "pygments_lexer": "ipython3",
      "version": "3.10.7"
    },
    "vscode": {
      "interpreter": {
        "hash": "c14d6e98828392466b1728a3ea31ae2def390387ad4a71478ac37e2f0c065a6c"
      }
    }
  },
  "nbformat": 4,
  "nbformat_minor": 0
}
